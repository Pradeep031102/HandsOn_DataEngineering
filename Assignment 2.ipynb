{
 "cells": [
  {
   "cell_type": "code",
   "execution_count": 0,
   "metadata": {
    "application/vnd.databricks.v1+cell": {
     "cellMetadata": {
      "byteLimit": 2048000,
      "rowLimit": 10000
     },
     "inputWidgets": {},
     "nuid": "de17df5d-147b-4a7b-8324-5110fc77866a",
     "showTitle": false,
     "title": ""
    }
   },
   "outputs": [
    {
     "name": "stdout",
     "output_type": "stream",
     "text": [
      "+---------+-----------+-----------+-----+-----+\n",
      "|ProductID|ProductName|   Category|Price|Stock|\n",
      "+---------+-----------+-----------+-----+-----+\n",
      "|      101|     Laptop|Electronics| 1200|   35|\n",
      "|      102| Smartphone|Electronics|  800|   80|\n",
      "|      103| Desk Chair|  Furniture|  150|   60|\n",
      "|      104|    Monitor|Electronics|  300|   45|\n",
      "|      105|       Desk|  Furniture|  350|   25|\n",
      "+---------+-----------+-----------+-----+-----+\n",
      "\n",
      "root\n",
      " |-- ProductID: integer (nullable = true)\n",
      " |-- ProductName: string (nullable = true)\n",
      " |-- Category: string (nullable = true)\n",
      " |-- Price: integer (nullable = true)\n",
      " |-- Stock: integer (nullable = true)\n",
      "\n"
     ]
    }
   ],
   "source": [
    "## 1. Load the JSON data:\n",
    "# Load the product_data.json file into a DataFrame.\n",
    "from pyspark.sql.types import StructType, StructField, StringType, IntegerType\n",
    "\n",
    "schema = StructType([\n",
    "    StructField(\"ProductID\", IntegerType(), True),\n",
    "    StructField(\"ProductName\", StringType(), True),\n",
    "    StructField(\"Category\", StringType(), True),\n",
    "    StructField(\"Price\", IntegerType(), True),\n",
    "    StructField(\"Stock\", IntegerType(), True)\n",
    "])\n",
    "df = spark.read.json(\"file:/Workspace/Shared/Product_data.json\", schema=schema)\n",
    "# Display the first 10 rows and inspect the schema.\n",
    "df.show()\n",
    "df.printSchema()"
   ]
  },
  {
   "cell_type": "code",
   "execution_count": 0,
   "metadata": {
    "application/vnd.databricks.v1+cell": {
     "cellMetadata": {
      "byteLimit": 2048000,
      "rowLimit": 10000
     },
     "inputWidgets": {},
     "nuid": "2a5d5f65-bdd1-4206-b298-7fde3713773d",
     "showTitle": false,
     "title": ""
    }
   },
   "outputs": [
    {
     "name": "stdout",
     "output_type": "stream",
     "text": [
      "+---------+-----------+-----------+-----+-----+\n",
      "|ProductID|ProductName|   Category|Price|Stock|\n",
      "+---------+-----------+-----------+-----+-----+\n",
      "|      101|     Laptop|Electronics| 1200|   35|\n",
      "|      102| Smartphone|Electronics|  800|   80|\n",
      "|      103| Desk Chair|  Furniture|  150|   60|\n",
      "|      104|    Monitor|Electronics|  300|   45|\n",
      "+---------+-----------+-----------+-----+-----+\n",
      "\n",
      "+---------+-----------+-----------+-----+-----+\n",
      "|ProductID|ProductName|   Category|Price|Stock|\n",
      "+---------+-----------+-----------+-----+-----+\n",
      "|      101|     Laptop|Electronics| 1200|   35|\n",
      "|      102| Smartphone|Electronics|  800|   80|\n",
      "|      104|    Monitor|Electronics|  300|   45|\n",
      "+---------+-----------+-----------+-----+-----+\n",
      "\n"
     ]
    }
   ],
   "source": [
    "## 2. Data Cleaning:\n",
    "# Remove rows where Stock is less than 30.\n",
    "cleaned_df = df.filter(df.Stock >= 30)\n",
    "cleaned_df.show()\n",
    "# Filter the products that belong to the \"Electronics\" category.\n",
    "Electronics_df = cleaned_df.filter(cleaned_df.Category == \"Electronics\")\n",
    "Electronics_df.show()"
   ]
  },
  {
   "cell_type": "code",
   "execution_count": 0,
   "metadata": {
    "application/vnd.databricks.v1+cell": {
     "cellMetadata": {
      "byteLimit": 2048000,
      "rowLimit": 10000
     },
     "inputWidgets": {},
     "nuid": "21c9d6af-5cf1-477c-aa06-6c4695af9f63",
     "showTitle": false,
     "title": ""
    }
   },
   "outputs": [
    {
     "name": "stdout",
     "output_type": "stream",
     "text": [
      "+----------+\n",
      "|sum(Stock)|\n",
      "+----------+\n",
      "|        85|\n",
      "+----------+\n",
      "\n",
      "+----------+\n",
      "|avg(Price)|\n",
      "+----------+\n",
      "|     560.0|\n",
      "+----------+\n",
      "\n"
     ]
    }
   ],
   "source": [
    "## 3. Data Aggregation:\n",
    "# Calculate the total stock for products in the \"Furniture\" category.\n",
    "Total_stocks = df.filter(cleaned_df.Category == \"Furniture\").agg({\"Stock\":\"sum\"})\n",
    "Total_stocks.show()\n",
    "# Find the average price of all products in the dataset.\n",
    "avg_price = df.agg({\"Price\":\"avg\"})\n",
    "avg_price.show()"
   ]
  },
  {
   "cell_type": "code",
   "execution_count": 0,
   "metadata": {
    "application/vnd.databricks.v1+cell": {
     "cellMetadata": {
      "byteLimit": 2048000,
      "rowLimit": 10000
     },
     "inputWidgets": {},
     "nuid": "05bb6abe-7e9c-4f7e-878c-c59cad0b1182",
     "showTitle": false,
     "title": ""
    }
   },
   "outputs": [],
   "source": [
    "## 4. Write the Data to JSON:\n",
    "# Save the cleaned and aggregated data into a new JSON file.\n",
    "cleaned_df.write.json(\"cleaned_data.json\")\n",
    "Total_stocks.write.json(\"total_stock.json\")\n",
    "avg_price.write.json(\"avg_price.json\")"
   ]
  }
 ],
 "metadata": {
  "application/vnd.databricks.v1+notebook": {
   "dashboards": [],
   "environmentMetadata": null,
   "language": "python",
   "notebookMetadata": {
    "pythonIndentUnit": 4
   },
   "notebookName": "Assignment 2: Working with JSON Data (product_data.json)",
   "widgets": {}
  },
  "language_info": {
   "name": "python"
  }
 },
 "nbformat": 4,
 "nbformat_minor": 0
}
