{
 "cells": [
  {
   "cell_type": "code",
   "execution_count": 0,
   "metadata": {
    "application/vnd.databricks.v1+cell": {
     "cellMetadata": {
      "byteLimit": 2048000,
      "rowLimit": 10000
     },
     "inputWidgets": {},
     "nuid": "37d0f60f-452e-423a-8321-ccdec09c3a42",
     "showTitle": false,
     "title": ""
    }
   },
   "outputs": [
    {
     "name": "stdout",
     "output_type": "stream",
     "text": [
      "+----------+-------------+----------+-----------+------+\n",
      "|EmployeeID|         Name|Department|JoiningDate|Salary|\n",
      "+----------+-------------+----------+-----------+------+\n",
      "|      1001|     John Doe|        HR| 2021-01-15| 55000|\n",
      "|      1002|   Jane Smith|        IT| 2020-03-10| 62000|\n",
      "|      1003|Emily Johnson|   Finance| 2019-07-01| 70000|\n",
      "|      1004|Michael Brown|        HR| 2018-12-22| 54000|\n",
      "|      1005| David Wilson|        IT| 2021-06-25| 58000|\n",
      "|      1006|  Linda Davis|   Finance| 2020-11-15| 67000|\n",
      "|      1007| James Miller|        IT| 2019-08-14| 65000|\n",
      "|      1008|Barbara Moore|        HR| 2021-03-29| 53000|\n",
      "+----------+-------------+----------+-----------+------+\n",
      "\n",
      "+----------+-------------+----------+-----------+------+\n",
      "|EmployeeID|         Name|Department|JoiningDate|Salary|\n",
      "+----------+-------------+----------+-----------+------+\n",
      "|      1001|     John Doe|        HR| 2021-01-15| 55000|\n",
      "|      1002|   Jane Smith|        IT| 2020-03-10| 62000|\n",
      "|      1003|Emily Johnson|   Finance| 2019-07-01| 70000|\n",
      "|      1004|Michael Brown|        HR| 2018-12-22| 54000|\n",
      "|      1005| David Wilson|        IT| 2021-06-25| 58000|\n",
      "|      1006|  Linda Davis|   Finance| 2020-11-15| 67000|\n",
      "|      1007| James Miller|        IT| 2019-08-14| 65000|\n",
      "|      1008|Barbara Moore|        HR| 2021-03-29| 53000|\n",
      "+----------+-------------+----------+-----------+------+\n",
      "\n",
      "+---------+-----------+-----------+-----+-----+\n",
      "|ProductID|ProductName|   Category|Price|Stock|\n",
      "+---------+-----------+-----------+-----+-----+\n",
      "|      101|     Laptop|Electronics| 1200|   35|\n",
      "|      102| Smartphone|Electronics|  800|   80|\n",
      "|      103| Desk Chair|  Furniture|  150|   60|\n",
      "|      104|    Monitor|Electronics|  300|   45|\n",
      "|      105|       Desk|  Furniture|  350|   25|\n",
      "+---------+-----------+-----------+-----+-----+\n",
      "\n",
      "+---------+-----------+-----------+-----+-----+\n",
      "|ProductID|ProductName|   Category|Price|Stock|\n",
      "+---------+-----------+-----------+-----+-----+\n",
      "|      101|     Laptop|Electronics| 1200|   35|\n",
      "|      102| Smartphone|Electronics|  800|   80|\n",
      "|      103| Desk Chair|  Furniture|  150|   60|\n",
      "|      104|    Monitor|Electronics|  300|   45|\n",
      "|      105|       Desk|  Furniture|  350|   25|\n",
      "+---------+-----------+-----------+-----+-----+\n",
      "\n"
     ]
    }
   ],
   "source": [
    "# 1. Convert CSV and JSON Data to Delta Format:\n",
    "# Convert the employee_data.csv and product_data.json into Delta Tables.Save the Delta tables to a specified location.\n",
    "from pyspark.sql.types import StructType, StructField, StringType, IntegerType\n",
    "\n",
    "Employee_data_path = \"file:/Workspace/Shared/Employee_data.csv\"\n",
    "Product_data_path = \"file:/Workspace/Shared/Product_data.json\"\n",
    "\n",
    "schema = StructType([\n",
    "    StructField(\"ProductID\", IntegerType(), True),StructField(\"ProductName\", StringType(), True),StructField(\"Category\", StringType(), True),StructField(\"Price\", IntegerType(), True),StructField(\"Stock\", IntegerType(), True)])\n",
    "\n",
    "Employee_df = spark.read.csv(Employee_data_path, header=True, inferSchema=True)\n",
    "Employee_df.show()\n",
    "Employee_df.write.saveAsTable(\"delta_employee_table\")\n",
    "Employee_df.write.format(\"delta\").mode(\"overwrite\").save(\"/Workspace/Shared/delta_Employee_table\")\n",
    "df_Employee_delta = spark.read.format(\"delta\").load(\"/Workspace/Shared/delta_Employee_table\")\n",
    "df_Employee_delta.show()\n",
    "\n",
    "\n",
    "Product_df = spark.read.json(Product_data_path, schema=schema)\n",
    "Product_df.show()\n",
    "Product_df.write.saveAsTable(\"delta_product_table\")\n",
    "Product_df.write.format(\"delta\").mode(\"overwrite\").save(\"/Workspace/Shared/delta_Product_table\")\n",
    "df_Product_delta = spark.read.format(\"delta\").load(\"/Workspace/Shared/delta_Product_table\")\n",
    "df_Product_delta.show()"
   ]
  },
  {
   "cell_type": "code",
   "execution_count": 0,
   "metadata": {
    "application/vnd.databricks.v1+cell": {
     "cellMetadata": {
      "byteLimit": 2048000,
      "rowLimit": 10000
     },
     "inputWidgets": {},
     "nuid": "301db0ef-ee89-48b8-8ab5-ca3914336466",
     "showTitle": false,
     "title": ""
    }
   },
   "outputs": [
    {
     "name": "stdout",
     "output_type": "stream",
     "text": [
      "+----------+-------------+----------+-----------+------+\n",
      "|EmployeeID|         Name|Department|JoiningDate|Salary|\n",
      "+----------+-------------+----------+-----------+------+\n",
      "|      1001|     John Doe|        HR| 2021-01-15| 55000|\n",
      "|      1002|   Jane Smith|        IT| 2020-03-10| 62000|\n",
      "|      1003|Emily Johnson|   Finance| 2019-07-01| 70000|\n",
      "|      1004|Michael Brown|        HR| 2018-12-22| 54000|\n",
      "|      1005| David Wilson|        IT| 2021-06-25| 58000|\n",
      "|      1006|  Linda Davis|   Finance| 2020-11-15| 67000|\n",
      "|      1007| James Miller|        IT| 2019-08-14| 65000|\n",
      "|      1008|Barbara Moore|        HR| 2021-03-29| 53000|\n",
      "+----------+-------------+----------+-----------+------+\n",
      "\n",
      "+---------+-----------+-----------+-----+-----+\n",
      "|ProductID|ProductName|   Category|Price|Stock|\n",
      "+---------+-----------+-----------+-----+-----+\n",
      "|      101|     Laptop|Electronics| 1200|   35|\n",
      "|      102| Smartphone|Electronics|  800|   80|\n",
      "|      103| Desk Chair|  Furniture|  150|   60|\n",
      "|      104|    Monitor|Electronics|  300|   45|\n",
      "|      105|       Desk|  Furniture|  350|   25|\n",
      "+---------+-----------+-----------+-----+-----+\n",
      "\n"
     ]
    }
   ],
   "source": [
    "# 2. Register Delta Tables:\n",
    "# Register both the employee and product Delta tables as SQL tables.\n",
    "\n",
    "df_Employee_delta = spark.read.format(\"delta\").load(\"/Workspace/Shared/delta_Employee_table\")\n",
    "df_Employee_delta.show()\n",
    "\n",
    "df_Product_delta = spark.read.format(\"delta\").load(\"/Workspace/Shared/delta_Product_table\")\n",
    "df_Product_delta.show()"
   ]
  },
  {
   "cell_type": "code",
   "execution_count": 0,
   "metadata": {
    "application/vnd.databricks.v1+cell": {
     "cellMetadata": {
      "byteLimit": 2048000,
      "rowLimit": 10000
     },
     "inputWidgets": {},
     "nuid": "88cedc01-8c7d-4e95-a7d8-c341d4d8909e",
     "showTitle": false,
     "title": ""
    }
   },
   "outputs": [
    {
     "name": "stdout",
     "output_type": "stream",
     "text": [
      "+----------+-------------+----------+-----------+------+\n",
      "|EmployeeID|         Name|Department|JoiningDate|Salary|\n",
      "+----------+-------------+----------+-----------+------+\n",
      "|      1001|     John Doe|        HR| 2021-01-15| 55000|\n",
      "|      1003|Emily Johnson|   Finance| 2019-07-01| 70000|\n",
      "|      1004|Michael Brown|        HR| 2018-12-22| 54000|\n",
      "|      1006|  Linda Davis|   Finance| 2020-11-15| 67000|\n",
      "|      1008|Barbara Moore|        HR| 2021-03-29| 53000|\n",
      "|      1002|   Jane Smith|        IT| 2020-03-10| 65100|\n",
      "|      1005| David Wilson|        IT| 2021-06-25| 60900|\n",
      "|      1007| James Miller|        IT| 2019-08-14| 68250|\n",
      "+----------+-------------+----------+-----------+------+\n",
      "\n"
     ]
    }
   ],
   "source": [
    "# 3. Data Modifications with Delta Tables:\n",
    "\n",
    "# Perform an update operation on the employee Delta table: Increase the salary by 5% for all employees in the IT department.\n",
    "spark.sql(\"\"\"\n",
    "    UPDATE delta.`/Workspace/Shared/delta_Employee_table`\n",
    "    SET Salary = Salary * 1.05\n",
    "    WHERE Department = 'IT'\n",
    "\"\"\")\n",
    "\n",
    "df_Employee_delta = spark.read.format(\"delta\").load(\"/Workspace/Shared/delta_Employee_table\")\n",
    "df_Employee_delta.show()"
   ]
  },
  {
   "cell_type": "code",
   "execution_count": 0,
   "metadata": {
    "application/vnd.databricks.v1+cell": {
     "cellMetadata": {
      "byteLimit": 2048000,
      "rowLimit": 10000
     },
     "inputWidgets": {},
     "nuid": "5252aedb-0ef1-40b3-95a4-fa4d235862f6",
     "showTitle": false,
     "title": ""
    }
   },
   "outputs": [
    {
     "name": "stdout",
     "output_type": "stream",
     "text": [
      "+---------+-----------+-----------+-----+-----+\n",
      "|ProductID|ProductName|   Category|Price|Stock|\n",
      "+---------+-----------+-----------+-----+-----+\n",
      "|      102| Smartphone|Electronics|  800|   80|\n",
      "|      103| Desk Chair|  Furniture|  150|   60|\n",
      "|      104|    Monitor|Electronics|  300|   45|\n",
      "+---------+-----------+-----------+-----+-----+\n",
      "\n"
     ]
    }
   ],
   "source": [
    "# Perform a delete operation on the product Delta table: Delete products where the stock is less than 40.\n",
    "spark.sql(\"\"\"\n",
    "    DELETE FROM delta.`/Workspace/Shared/delta_Product_table`\n",
    "    WHERE Stock < 40\n",
    "\"\"\")\n",
    "\n",
    "df_Product_delta = spark.read.format(\"delta\").load(\"/Workspace/Shared/delta_Product_table\")\n",
    "df_Product_delta.show()"
   ]
  },
  {
   "cell_type": "code",
   "execution_count": 0,
   "metadata": {
    "application/vnd.databricks.v1+cell": {
     "cellMetadata": {
      "byteLimit": 2048000,
      "rowLimit": 10000
     },
     "inputWidgets": {},
     "nuid": "e6b757b0-b14c-46b6-b0ac-eccda0ee0de7",
     "showTitle": false,
     "title": ""
    }
   },
   "outputs": [
    {
     "name": "stdout",
     "output_type": "stream",
     "text": [
      "+---------+-----------+-----------+-----+-----+\n",
      "|ProductID|ProductName|   Category|Price|Stock|\n",
      "+---------+-----------+-----------+-----+-----+\n",
      "|      101|     Laptop|Electronics| 1200|   35|\n",
      "|      102| Smartphone|Electronics|  800|   80|\n",
      "|      103| Desk Chair|  Furniture|  150|   60|\n",
      "|      104|    Monitor|Electronics|  300|   45|\n",
      "|      105|       Desk|  Furniture|  350|   25|\n",
      "+---------+-----------+-----------+-----+-----+\n",
      "\n",
      "+----------+-------------+----------+-----------+------+\n",
      "|EmployeeID|         Name|Department|JoiningDate|Salary|\n",
      "+----------+-------------+----------+-----------+------+\n",
      "|      1001|     John Doe|        HR| 2021-01-15| 55000|\n",
      "|      1002|   Jane Smith|        IT| 2020-03-10| 62000|\n",
      "|      1003|Emily Johnson|   Finance| 2019-07-01| 70000|\n",
      "|      1004|Michael Brown|        HR| 2018-12-22| 54000|\n",
      "|      1005| David Wilson|        IT| 2021-06-25| 58000|\n",
      "|      1006|  Linda Davis|   Finance| 2020-11-15| 67000|\n",
      "|      1007| James Miller|        IT| 2019-08-14| 65000|\n",
      "|      1008|Barbara Moore|        HR| 2021-03-29| 53000|\n",
      "+----------+-------------+----------+-----------+------+\n",
      "\n"
     ]
    }
   ],
   "source": [
    "# 4. Time Travel with Delta Tables:\n",
    "\n",
    "# Query the product Delta table to show its state before the delete operation (use time travel).\n",
    "df_version_before_delete = spark.sql(\"SELECT * FROM delta_Product_table VERSION AS OF 0\")\n",
    "df_version_before_delete.show()\n",
    "\n",
    "# Retrieve the version of the employee Delta table before the salary update.\n",
    "df_version_before_update = spark.sql(\"SELECT * FROM delta_Employee_table VERSION AS OF 0\")\n",
    "df_version_before_update.show()"
   ]
  },
  {
   "cell_type": "code",
   "execution_count": 0,
   "metadata": {
    "application/vnd.databricks.v1+cell": {
     "cellMetadata": {
      "byteLimit": 2048000,
      "rowLimit": 10000
     },
     "inputWidgets": {},
     "nuid": "a7427a5e-f697-4ba0-b2e7-57718a310464",
     "showTitle": false,
     "title": ""
    }
   },
   "outputs": [
    {
     "name": "stdout",
     "output_type": "stream",
     "text": [
      "+----------+-------------+----------+-----------+------+\n",
      "|EmployeeID|         Name|Department|JoiningDate|Salary|\n",
      "+----------+-------------+----------+-----------+------+\n",
      "|      1003|Emily Johnson|   Finance| 2019-07-01| 70000|\n",
      "|      1006|  Linda Davis|   Finance| 2020-11-15| 67000|\n",
      "+----------+-------------+----------+-----------+------+\n",
      "\n",
      "+---------+-----------+-----------+-----+-----+\n",
      "|ProductID|ProductName|   Category|Price|Stock|\n",
      "+---------+-----------+-----------+-----+-----+\n",
      "|      101|     Laptop|Electronics| 1200|   35|\n",
      "|      102| Smartphone|Electronics|  800|   80|\n",
      "+---------+-----------+-----------+-----+-----+\n",
      "\n"
     ]
    }
   ],
   "source": [
    "# 5. Query Delta Tables:\n",
    "\n",
    "# Query the employee Delta table to find the employees in the Finance department.\n",
    "df_fin_emp = spark.sql(\"SELECT * FROM delta_Employee_table WHERE Department = 'Finance'\")\n",
    "df_fin_emp.show()\n",
    "\n",
    "# Query the product Delta table to find all products in the Electronics category with a price greater than 500.\n",
    "df_elec_products = spark.sql(\"SELECT * FROM delta_product_table WHERE Category = 'Electronics' AND Price > 500\")\n",
    "df_elec_products.show()"
   ]
  }
 ],
 "metadata": {
  "application/vnd.databricks.v1+notebook": {
   "dashboards": [],
   "environmentMetadata": null,
   "language": "python",
   "notebookMetadata": {
    "pythonIndentUnit": 4
   },
   "notebookName": "Assignment 3: Working with Delta Tables",
   "widgets": {}
  },
  "language_info": {
   "name": "python"
  }
 },
 "nbformat": 4,
 "nbformat_minor": 0
}
