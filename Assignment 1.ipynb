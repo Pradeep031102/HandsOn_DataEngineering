{
 "cells": [
  {
   "cell_type": "code",
   "execution_count": 0,
   "metadata": {
    "application/vnd.databricks.v1+cell": {
     "cellMetadata": {
      "byteLimit": 2048000,
      "rowLimit": 10000
     },
     "inputWidgets": {},
     "nuid": "7124f04b-de46-479a-90eb-fa0df19733bc",
     "showTitle": false,
     "title": ""
    }
   },
   "outputs": [
    {
     "name": "stdout",
     "output_type": "stream",
     "text": [
      "+----------+-------------+----------+-----------+------+\n",
      "|EmployeeID|         Name|Department|JoiningDate|Salary|\n",
      "+----------+-------------+----------+-----------+------+\n",
      "|      1001|     John Doe|        HR| 2021-01-15| 55000|\n",
      "|      1002|   Jane Smith|        IT| 2020-03-10| 62000|\n",
      "|      1003|Emily Johnson|   Finance| 2019-07-01| 70000|\n",
      "|      1004|Michael Brown|        HR| 2018-12-22| 54000|\n",
      "|      1005| David Wilson|        IT| 2021-06-25| 58000|\n",
      "|      1006|  Linda Davis|   Finance| 2020-11-15| 67000|\n",
      "|      1007| James Miller|        IT| 2019-08-14| 65000|\n",
      "|      1008|Barbara Moore|        HR| 2021-03-29| 53000|\n",
      "+----------+-------------+----------+-----------+------+\n",
      "\n",
      "root\n",
      " |-- EmployeeID: integer (nullable = true)\n",
      " |-- Name: string (nullable = true)\n",
      " |-- Department: string (nullable = true)\n",
      " |-- JoiningDate: date (nullable = true)\n",
      " |-- Salary: integer (nullable = true)\n",
      "\n"
     ]
    }
   ],
   "source": [
    "## 1. Load the CSV data:\n",
    "# Load the employee_data.csv file into a DataFrame.\n",
    "df = spark.read.csv(\"file:/Workspace/Shared/Employee_data.csv\", header=True, inferSchema=True)\n",
    "# Display the first 10 rows and inspect the schema.\n",
    "df.show(10)\n",
    "df.printSchema()"
   ]
  },
  {
   "cell_type": "code",
   "execution_count": 0,
   "metadata": {
    "application/vnd.databricks.v1+cell": {
     "cellMetadata": {
      "byteLimit": 2048000,
      "rowLimit": 10000
     },
     "inputWidgets": {},
     "nuid": "93b03e69-f649-4272-bc0f-bab7ed952575",
     "showTitle": false,
     "title": ""
    }
   },
   "outputs": [
    {
     "name": "stdout",
     "output_type": "stream",
     "text": [
      "+----------+-------------+----------+-----------+------+\n",
      "|EmployeeID|         Name|Department|JoiningDate|Salary|\n",
      "+----------+-------------+----------+-----------+------+\n",
      "|      1001|     John Doe|        HR| 2021-01-15| 55000|\n",
      "|      1002|   Jane Smith|        IT| 2020-03-10| 62000|\n",
      "|      1003|Emily Johnson|   Finance| 2019-07-01| 70000|\n",
      "|      1005| David Wilson|        IT| 2021-06-25| 58000|\n",
      "|      1006|  Linda Davis|   Finance| 2020-11-15| 67000|\n",
      "|      1007| James Miller|        IT| 2019-08-14| 65000|\n",
      "+----------+-------------+----------+-----------+------+\n",
      "\n",
      "+----------+------------+----------+-----------+------+\n",
      "|EmployeeID|        Name|Department|JoiningDate|Salary|\n",
      "+----------+------------+----------+-----------+------+\n",
      "|      1001|    John Doe|        HR| 2021-01-15| 55000|\n",
      "|      1005|David Wilson|        IT| 2021-06-25| 58000|\n",
      "+----------+------------+----------+-----------+------+\n",
      "\n"
     ]
    }
   ],
   "source": [
    "## 2. Data Cleaning:\n",
    "from pyspark.sql.functions import col, year\n",
    "# Remove rows where the Salary is less than 55,000.\n",
    "cleaned_df = df.filter(col(\"Salary\") >= 55000)\n",
    "cleaned_df.show()\n",
    "# Filter the employees who joined after the year 2020.\n",
    "cleaned_df = cleaned_df.filter(year(col(\"JoiningDate\")) > 2020)\n",
    "cleaned_df.show()"
   ]
  },
  {
   "cell_type": "code",
   "execution_count": 0,
   "metadata": {
    "application/vnd.databricks.v1+cell": {
     "cellMetadata": {
      "byteLimit": 2048000,
      "rowLimit": 10000
     },
     "inputWidgets": {},
     "nuid": "14d347e2-7c6f-4e03-b6bf-0f5a7f927a6a",
     "showTitle": false,
     "title": ""
    }
   },
   "outputs": [
    {
     "name": "stdout",
     "output_type": "stream",
     "text": [
      "+----------+-------------+----------+-----------+------+\n",
      "|EmployeeID|         Name|Department|JoiningDate|Salary|\n",
      "+----------+-------------+----------+-----------+------+\n",
      "|      1001|     John Doe|        HR| 2021-01-15| 55000|\n",
      "|      1002|   Jane Smith|        IT| 2020-03-10| 62000|\n",
      "|      1003|Emily Johnson|   Finance| 2019-07-01| 70000|\n",
      "|      1004|Michael Brown|        HR| 2018-12-22| 54000|\n",
      "|      1005| David Wilson|        IT| 2021-06-25| 58000|\n",
      "|      1006|  Linda Davis|   Finance| 2020-11-15| 67000|\n",
      "|      1007| James Miller|        IT| 2019-08-14| 65000|\n",
      "|      1008|Barbara Moore|        HR| 2021-03-29| 53000|\n",
      "+----------+-------------+----------+-----------+------+\n",
      "\n",
      "+----------+-----+\n",
      "|Department|count|\n",
      "+----------+-----+\n",
      "|        HR|    3|\n",
      "|   Finance|    2|\n",
      "|        IT|    3|\n",
      "+----------+-----+\n",
      "\n"
     ]
    }
   ],
   "source": [
    "## 3. Data Aggregation\n",
    "from pyspark.sql.functions import avg\n",
    "# Find the average salary by Department.\n",
    "df.groupBy(\"Department\").agg(avg(\"Salary\").alias(\"AverageSalary\"))\n",
    "df.show()\n",
    "# Count the number of employees in each Department.\n",
    "Employees_df = df.groupBy(\"Department\").count()\n",
    "Employees_df.show()"
   ]
  },
  {
   "cell_type": "code",
   "execution_count": 0,
   "metadata": {
    "application/vnd.databricks.v1+cell": {
     "cellMetadata": {
      "byteLimit": 2048000,
      "rowLimit": 10000
     },
     "inputWidgets": {},
     "nuid": "ff52f592-1969-40a7-a856-5f3ae87ef873",
     "showTitle": false,
     "title": ""
    }
   },
   "outputs": [],
   "source": [
    "# 4. Write the Data to CSV\n",
    "# Save the cleaned data (from the previous steps) to a new CSV file.\n",
    "cleaned_df.write.csv(\"Cleaned_data.csv\")"
   ]
  }
 ],
 "metadata": {
  "application/vnd.databricks.v1+notebook": {
   "dashboards": [],
   "environmentMetadata": null,
   "language": "python",
   "notebookMetadata": {
    "pythonIndentUnit": 4
   },
   "notebookName": "Assignment 1: Working with CSV Data (employee_data.csv)",
   "widgets": {}
  },
  "language_info": {
   "name": "python"
  }
 },
 "nbformat": 4,
 "nbformat_minor": 0
}
